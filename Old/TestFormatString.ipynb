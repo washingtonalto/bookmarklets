{
 "cells": [
  {
   "cell_type": "code",
   "execution_count": 5,
   "metadata": {},
   "outputs": [
    {
     "data": {
      "text/plain": [
       "true"
      ]
     },
     "execution_count": 5,
     "metadata": {},
     "output_type": "execute_result"
    }
   ],
   "source": [
    "var strTest = \"https://www.example.com\"\n",
    "var regPattern = new RegExp(\"https?:\\/\\/\"); \n",
    "regPattern.test(strTest)"
   ]
  },
  {
   "cell_type": "code",
   "execution_count": 18,
   "metadata": {},
   "outputs": [
    {
     "data": {
      "text/plain": [
       "true"
      ]
     },
     "execution_count": 18,
     "metadata": {},
     "output_type": "execute_result"
    }
   ],
   "source": [
    "function isValidHttpUrl(string) {\n",
    "  let url;\n",
    "  \n",
    "  try {\n",
    "    url = new URL(string);\n",
    "  } catch (_) {\n",
    "    return false;  \n",
    "  }\n",
    "\n",
    "  return url.protocol === \"http:\" || url.protocol === \"https:\";\n",
    "}\n",
    "\n",
    "isValidHttpUrl(\"https://www.assetmanagement.hsbc.co.uk/en/individual-investor/fund-centre#About-us\")"
   ]
  },
  {
   "cell_type": "code",
   "execution_count": 39,
   "metadata": {},
   "outputs": [],
   "source": [
    "var inputStr = \"\";\n",
    "var outputStr = inputStr == null || inputStr.trim().length == 0 ? '' : inputStr.trim();"
   ]
  },
  {
   "cell_type": "code",
   "execution_count": 40,
   "metadata": {},
   "outputs": [
    {
     "data": {
      "text/plain": [
       "''"
      ]
     },
     "execution_count": 40,
     "metadata": {},
     "output_type": "execute_result"
    }
   ],
   "source": [
    "outputStr\n"
   ]
  },
  {
   "cell_type": "code",
   "execution_count": 41,
   "metadata": {},
   "outputs": [
    {
     "ename": "ReferenceError",
     "evalue": "XMLHttpRequest is not defined",
     "output_type": "error",
     "traceback": [
      "evalmachine.<anonymous>:2",
      "  var xhr = new XMLHttpRequest();",
      "            ^",
      "",
      "ReferenceError: XMLHttpRequest is not defined",
      "    at urlExists (evalmachine.<anonymous>:2:13)",
      "    at evalmachine.<anonymous>:12:1",
      "    at Script.runInThisContext (vm.js:120:18)",
      "    at Object.runInThisContext (vm.js:309:38)",
      "    at run ([eval]:1054:15)",
      "    at onRunRequest ([eval]:888:18)",
      "    at onMessage ([eval]:848:13)",
      "    at process.emit (events.js:314:20)",
      "    at emit (internal/child_process.js:876:12)",
      "    at processTicksAndRejections (internal/process/task_queues.js:85:21)"
     ]
    }
   ],
   "source": [
    "function urlExists(url) {\n",
    "  var xhr = new XMLHttpRequest();\n",
    "  xhr.onreadystatechange = function() {\n",
    "    if (xhr.readyState === 4) {\n",
    "      return xhr.status;\n",
    "    }\n",
    "  };\n",
    "  xhr.open('HEAD', url);\n",
    "  xhr.send();\n",
    "}\n",
    "\n",
    "urlExists(\"http://www.assetmanagement.hsbc.com\");"
   ]
  },
  {
   "cell_type": "code",
   "execution_count": null,
   "metadata": {},
   "outputs": [],
   "source": []
  }
 ],
 "metadata": {
  "kernelspec": {
   "display_name": "Javascript (Node.js)",
   "language": "javascript",
   "name": "javascript"
  },
  "language_info": {
   "file_extension": ".js",
   "mimetype": "application/javascript",
   "name": "javascript",
   "version": "12.19.0"
  }
 },
 "nbformat": 4,
 "nbformat_minor": 4
}
